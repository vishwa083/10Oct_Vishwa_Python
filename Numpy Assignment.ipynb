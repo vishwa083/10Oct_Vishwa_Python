{
 "cells": [
  {
   "cell_type": "markdown",
   "id": "cdc75f56",
   "metadata": {},
   "source": [
    "# Q-1"
   ]
  },
  {
   "cell_type": "code",
   "execution_count": 1,
   "id": "c86542a2",
   "metadata": {},
   "outputs": [],
   "source": [
    "import numpy as np"
   ]
  },
  {
   "cell_type": "code",
   "execution_count": 2,
   "id": "1c69ea72",
   "metadata": {},
   "outputs": [],
   "source": [
    "arr1=np.array([1,2,3,4,5,6])"
   ]
  },
  {
   "cell_type": "code",
   "execution_count": 3,
   "id": "af18ae71",
   "metadata": {},
   "outputs": [
    {
     "data": {
      "text/plain": [
       "array([1, 2, 3, 4, 5, 6])"
      ]
     },
     "execution_count": 3,
     "metadata": {},
     "output_type": "execute_result"
    }
   ],
   "source": [
    "arr1"
   ]
  },
  {
   "cell_type": "code",
   "execution_count": 5,
   "id": "4b51a37e",
   "metadata": {},
   "outputs": [
    {
     "data": {
      "text/plain": [
       "array([[1, 2, 3],\n",
       "       [4, 5, 6]])"
      ]
     },
     "execution_count": 5,
     "metadata": {},
     "output_type": "execute_result"
    }
   ],
   "source": [
    "arr1.reshape([2,3])"
   ]
  },
  {
   "cell_type": "markdown",
   "id": "fbf26894",
   "metadata": {},
   "source": [
    "# Q-2"
   ]
  },
  {
   "cell_type": "code",
   "execution_count": 9,
   "id": "1ecb1928",
   "metadata": {},
   "outputs": [
    {
     "name": "stdout",
     "output_type": "stream",
     "text": [
      "Original arrays : [1 2 3 2 3 4 3 4 5 6] [ 7  2 10  2  7  4  9  4  9  8]\n",
      "Common values : [2 4]\n"
     ]
    }
   ],
   "source": [
    "arr1=np.array([1,2,3,2,3,4,3,4,5,6])\n",
    "arr2=np.array([7,2,10,2,7,4,9,4,9,8])\n",
    "print(\"Original arrays :\",arr1,arr2)\n",
    "arr3=np.intersect1d(arr1,arr2)\n",
    "print(\"Common values :\",arr3)"
   ]
  },
  {
   "cell_type": "markdown",
   "id": "d75ada60",
   "metadata": {},
   "source": [
    "# Q-3"
   ]
  },
  {
   "cell_type": "code",
   "execution_count": 20,
   "id": "0cfe65fa",
   "metadata": {},
   "outputs": [
    {
     "name": "stdout",
     "output_type": "stream",
     "text": [
      "Original array : [ 2  6  1  9 10  3 27]\n",
      "Numbers between 5 to 10 are : [ 6  9 10]\n"
     ]
    }
   ],
   "source": [
    "arr1=np.array([2,6,1,9,10,3,27])\n",
    "print(\"Original array :\",arr1)\n",
    "arr2=arr1[(arr1>=5) & (arr1<=10)]\n",
    "print(\"Numbers between 5 to 10 are :\",arr2)"
   ]
  },
  {
   "cell_type": "markdown",
   "id": "2c0ab4ab",
   "metadata": {},
   "source": [
    "# Q-4"
   ]
  },
  {
   "cell_type": "code",
   "execution_count": 23,
   "id": "4b607d8e",
   "metadata": {},
   "outputs": [
    {
     "name": "stdout",
     "output_type": "stream",
     "text": [
      "[ 0  1  2 ... 12 13 14]\n"
     ]
    }
   ],
   "source": [
    "arr1=np.array([0,1,2,3,4,5,6,7,8,9,10,11,12,13,14])\n",
    "np.set_printoptions(threshold=6)\n",
    "print(arr1)"
   ]
  },
  {
   "cell_type": "markdown",
   "id": "023a02d5",
   "metadata": {},
   "source": [
    "# ASSIGNMENT QUESTIONS:\n",
    "# How to create an empty and a full numpy array"
   ]
  },
  {
   "cell_type": "code",
   "execution_count": 69,
   "id": "2a39486a",
   "metadata": {},
   "outputs": [
    {
     "name": "stdout",
     "output_type": "stream",
     "text": [
      "Empty array = [[[6.23042070e-307 1.86918699e-306]\n",
      "  [1.69121096e-306 6.23058707e-307]\n",
      "  [8.45593934e-307 7.56593017e-307]]\n",
      "\n",
      " [[1.11261027e-306 1.11261502e-306]\n",
      "  [1.42410839e-306 7.56597770e-307]\n",
      "  [6.23059726e-307 1.42419530e-306]]\n",
      "\n",
      " [[7.56602523e-307 1.29061821e-306]\n",
      "  [1.37961234e-306 9.34598926e-307]\n",
      "  [1.33511562e-306 9.34600963e-307]]\n",
      "\n",
      " [[8.45559303e-307 9.45697982e-308]\n",
      "  [1.33511562e-306 8.90103560e-307]\n",
      "  [1.42410974e-306 8.73989989e+247]]]\n"
     ]
    }
   ],
   "source": [
    "import numpy as np\n",
    "a=np.empty((4,3,2))\n",
    "print(\"Empty array =\",a)"
   ]
  },
  {
   "cell_type": "code",
   "execution_count": 3,
   "id": "e5ef38d4",
   "metadata": {},
   "outputs": [
    {
     "name": "stdout",
     "output_type": "stream",
     "text": [
      "Full array = [[7 7]\n",
      " [7 7]]\n"
     ]
    }
   ],
   "source": [
    "b=np.full((2,2),7)\n",
    "print(\"Full array =\",b)"
   ]
  },
  {
   "cell_type": "markdown",
   "id": "f8cedeb0",
   "metadata": {},
   "source": [
    "# Create a numpy array filled with all zeros"
   ]
  },
  {
   "cell_type": "code",
   "execution_count": 6,
   "id": "a4c8fb28",
   "metadata": {},
   "outputs": [
    {
     "name": "stdout",
     "output_type": "stream",
     "text": [
      "Zeros array = [[0. 0. 0.]\n",
      " [0. 0. 0.]\n",
      " [0. 0. 0.]\n",
      " [0. 0. 0.]]\n"
     ]
    }
   ],
   "source": [
    "a=np.zeros((4,3))\n",
    "print(\"Zeros array =\",a)"
   ]
  },
  {
   "cell_type": "markdown",
   "id": "76941bd8",
   "metadata": {},
   "source": [
    "# Create a numpy array filled with all ones"
   ]
  },
  {
   "cell_type": "code",
   "execution_count": 31,
   "id": "8cfff161",
   "metadata": {},
   "outputs": [
    {
     "name": "stdout",
     "output_type": "stream",
     "text": [
      "Ones array = [[1. 1. 1.]\n",
      " [1. 1. 1.]\n",
      " [1. 1. 1.]\n",
      " [1. 1. 1.]]\n"
     ]
    }
   ],
   "source": [
    "b=np.ones((4,3))\n",
    "print(\"Ones array =\",b)"
   ]
  },
  {
   "cell_type": "markdown",
   "id": "55ebf294",
   "metadata": {},
   "source": [
    "# Check whether a numpy array contains a specified row"
   ]
  },
  {
   "cell_type": "code",
   "execution_count": 36,
   "id": "9f5de4fc",
   "metadata": {},
   "outputs": [
    {
     "name": "stdout",
     "output_type": "stream",
     "text": [
      "The specified row exists in the array.\n"
     ]
    }
   ],
   "source": [
    "array = np.array([[1, 2, 3],\n",
    "                  [4, 5, 6],\n",
    "                  [7, 8, 9]])\n",
    "\n",
    "a = np.array([4, 5, 6])\n",
    "\n",
    "b = np.any(np.all(array == a, axis=1))\n",
    "\n",
    "if b:\n",
    "    print(\"The specified row exists in the array.\")\n",
    "else:\n",
    "    print(\"The specified row does not exist in the array.\")"
   ]
  },
  {
   "cell_type": "markdown",
   "id": "6f402ad3",
   "metadata": {},
   "source": [
    "# How to remove rows in numpy array that contains non-numeric values"
   ]
  },
  {
   "cell_type": "code",
   "execution_count": 39,
   "id": "5c2e43b9",
   "metadata": {},
   "outputs": [
    {
     "name": "stdout",
     "output_type": "stream",
     "text": [
      "Original Array:\n",
      "[['1' '2' 'g' '3']\n",
      " ['4' '8' '5' '6']\n",
      " ['7' '8' 'i' '9']]\n",
      "\n",
      "Array after removing specified rows:\n",
      "[['4' '8' '5' '6']]\n"
     ]
    }
   ],
   "source": [
    "arr1 = np.array([[1, 2, 'g', 3], [4, 8, 5, 6], [7, 8, 'i', 9]])\n",
    "\n",
    "remove = [0, 2]\n",
    "\n",
    "arr2 = np.delete(arr1, remove, axis=0)\n",
    "\n",
    "print(\"Original Array:\")\n",
    "print(arr1)\n",
    "print(\"\\nArray after removing specified rows:\")\n",
    "print(arr2)"
   ]
  },
  {
   "cell_type": "markdown",
   "id": "b7cd0fef",
   "metadata": {},
   "source": [
    "# Remove singal dimensional entries from the shape of an array"
   ]
  },
  {
   "cell_type": "code",
   "execution_count": 42,
   "id": "1a6b38df",
   "metadata": {},
   "outputs": [
    {
     "name": "stdout",
     "output_type": "stream",
     "text": [
      "Original Shape: (1, 1, 3)\n",
      "Shape after changing: (3,)\n"
     ]
    }
   ],
   "source": [
    "arr1 = np.array([[[1, 2, 3]]])\n",
    "\n",
    "print(\"Original Shape:\", arr1.shape)\n",
    "\n",
    "arr2 = np.ravel(arr1)\n",
    "\n",
    "print(\"Shape after changing:\", arr2.shape)"
   ]
  },
  {
   "cell_type": "markdown",
   "id": "9e0155df",
   "metadata": {},
   "source": [
    "# Find the number of occurences of a sequence in a numpy array"
   ]
  },
  {
   "cell_type": "code",
   "execution_count": 47,
   "id": "0bc71d69",
   "metadata": {},
   "outputs": [
    {
     "name": "stdout",
     "output_type": "stream",
     "text": [
      "Number of occurences of a sequence is 4\n"
     ]
    }
   ],
   "source": [
    "arr = np.array([[2, 8, 9, 4], \n",
    "                [9, 4, 9, 4], \n",
    "                [4, 5, 9, 7], \n",
    "                [2, 9, 4, 3]]) \n",
    " \n",
    "arr2 = repr(arr).count(\"9, 4\") \n",
    "\n",
    "print(\"Number of occurences of a sequence is\",output) \n"
   ]
  },
  {
   "cell_type": "markdown",
   "id": "04c60c31",
   "metadata": {},
   "source": [
    "# Find the most frequent value in a numpy array"
   ]
  },
  {
   "cell_type": "code",
   "execution_count": 63,
   "id": "0c5fe958",
   "metadata": {},
   "outputs": [
    {
     "name": "stdout",
     "output_type": "stream",
     "text": [
      "Original array = [1 2 1 3 6 2 5 1 2 2 3 2 2 5 2 4 2 6 2 5 1 6]\n",
      "Most frequent value in the above array is  2\n"
     ]
    }
   ],
   "source": [
    "arr = np.array([1,2,1,3,6,2,5,1,2,2,3,2,2,5,2,4,2,6,2,5,1,6])\n",
    "print(\"Original array =\",arr)\n",
    "arr2 = np.bincount(arr).argmax()\n",
    "print(\"Most frequent value in the above array is \",arr2)"
   ]
  },
  {
   "cell_type": "markdown",
   "id": "eaf7bbed",
   "metadata": {},
   "source": [
    "# Combining a one and a two dimensional numpy array"
   ]
  },
  {
   "cell_type": "code",
   "execution_count": 68,
   "id": "9fccb8c5",
   "metadata": {},
   "outputs": [
    {
     "name": "stdout",
     "output_type": "stream",
     "text": [
      "[[1 2 3 4]\n",
      " [1 2 3 4]\n",
      " [5 6 7 8]]\n"
     ]
    }
   ],
   "source": [
    "arr1=np.array([1,2,3,4])\n",
    "arr2=np.array([[1,2,3,4],\n",
    "               [5,6,7,8]])\n",
    "arr3=np.vstack([arr1,arr2])\n",
    "print(arr3)"
   ]
  },
  {
   "cell_type": "markdown",
   "id": "6dc3001c",
   "metadata": {},
   "source": [
    "# How to build an array of all combinations of two numpy arrays"
   ]
  },
  {
   "cell_type": "code",
   "execution_count": 76,
   "id": "8b588a7e",
   "metadata": {},
   "outputs": [
    {
     "name": "stdout",
     "output_type": "stream",
     "text": [
      "Array 1: [1 2 3]\n",
      "\n",
      "Array 2: ['a' 'b' 'c']\n",
      "\n",
      "Combined array of all combinations: [['1' 'a']\n",
      " ['2' 'a']\n",
      " ['3' 'a']\n",
      " ['1' 'b']\n",
      " ['2' 'b']\n",
      " ['3' 'b']\n",
      " ['1' 'c']\n",
      " ['2' 'c']\n",
      " ['3' 'c']]\n"
     ]
    }
   ],
   "source": [
    "arr1 = np.array([1, 2, 3])\n",
    "arr2 = np.array(['a', 'b', 'c'])\n",
    "\n",
    "grid1, grid2 = np.meshgrid(arr1, arr2)\n",
    "\n",
    "arr3 = np.column_stack((grid1.ravel(), grid2.ravel()))\n",
    "\n",
    "print(\"Array 1:\",arr1)\n",
    "\n",
    "print(\"\\nArray 2:\",arr2)\n",
    "\n",
    "print(\"\\nCombined array of all combinations:\",arr3)"
   ]
  },
  {
   "cell_type": "code",
   "execution_count": null,
   "id": "488507d6",
   "metadata": {},
   "outputs": [],
   "source": []
  }
 ],
 "metadata": {
  "kernelspec": {
   "display_name": "Python 3 (ipykernel)",
   "language": "python",
   "name": "python3"
  },
  "language_info": {
   "codemirror_mode": {
    "name": "ipython",
    "version": 3
   },
   "file_extension": ".py",
   "mimetype": "text/x-python",
   "name": "python",
   "nbconvert_exporter": "python",
   "pygments_lexer": "ipython3",
   "version": "3.11.5"
  }
 },
 "nbformat": 4,
 "nbformat_minor": 5
}
