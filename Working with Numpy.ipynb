{
 "cells": [
  {
   "cell_type": "markdown",
   "id": "cdc75f56",
   "metadata": {},
   "source": [
    "# Q-1"
   ]
  },
  {
   "cell_type": "code",
   "execution_count": 1,
   "id": "c86542a2",
   "metadata": {},
   "outputs": [],
   "source": [
    "import numpy as np"
   ]
  },
  {
   "cell_type": "code",
   "execution_count": 2,
   "id": "1c69ea72",
   "metadata": {},
   "outputs": [],
   "source": [
    "arr1=np.array([1,2,3,4,5,6])"
   ]
  },
  {
   "cell_type": "code",
   "execution_count": 3,
   "id": "af18ae71",
   "metadata": {},
   "outputs": [
    {
     "data": {
      "text/plain": [
       "array([1, 2, 3, 4, 5, 6])"
      ]
     },
     "execution_count": 3,
     "metadata": {},
     "output_type": "execute_result"
    }
   ],
   "source": [
    "arr1"
   ]
  },
  {
   "cell_type": "code",
   "execution_count": 5,
   "id": "4b51a37e",
   "metadata": {},
   "outputs": [
    {
     "data": {
      "text/plain": [
       "array([[1, 2, 3],\n",
       "       [4, 5, 6]])"
      ]
     },
     "execution_count": 5,
     "metadata": {},
     "output_type": "execute_result"
    }
   ],
   "source": [
    "arr1.reshape([2,3])"
   ]
  },
  {
   "cell_type": "markdown",
   "id": "fbf26894",
   "metadata": {},
   "source": [
    "# Q-2"
   ]
  },
  {
   "cell_type": "code",
   "execution_count": 9,
   "id": "1ecb1928",
   "metadata": {},
   "outputs": [
    {
     "name": "stdout",
     "output_type": "stream",
     "text": [
      "Original arrays : [1 2 3 2 3 4 3 4 5 6] [ 7  2 10  2  7  4  9  4  9  8]\n",
      "Common values : [2 4]\n"
     ]
    }
   ],
   "source": [
    "arr1=np.array([1,2,3,2,3,4,3,4,5,6])\n",
    "arr2=np.array([7,2,10,2,7,4,9,4,9,8])\n",
    "print(\"Original arrays :\",arr1,arr2)\n",
    "arr3=np.intersect1d(arr1,arr2)\n",
    "print(\"Common values :\",arr3)"
   ]
  },
  {
   "cell_type": "markdown",
   "id": "d75ada60",
   "metadata": {},
   "source": [
    "# Q-3"
   ]
  },
  {
   "cell_type": "code",
   "execution_count": 20,
   "id": "0cfe65fa",
   "metadata": {},
   "outputs": [
    {
     "name": "stdout",
     "output_type": "stream",
     "text": [
      "Original array : [ 2  6  1  9 10  3 27]\n",
      "Numbers between 5 to 10 are : [ 6  9 10]\n"
     ]
    }
   ],
   "source": [
    "arr1=np.array([2,6,1,9,10,3,27])\n",
    "print(\"Original array :\",arr1)\n",
    "arr2=arr1[(arr1>=5) & (arr1<=10)]\n",
    "print(\"Numbers between 5 to 10 are :\",arr2)"
   ]
  },
  {
   "cell_type": "markdown",
   "id": "2c0ab4ab",
   "metadata": {},
   "source": [
    "# Q-4"
   ]
  },
  {
   "cell_type": "code",
   "execution_count": 23,
   "id": "4b607d8e",
   "metadata": {},
   "outputs": [
    {
     "name": "stdout",
     "output_type": "stream",
     "text": [
      "[ 0  1  2 ... 12 13 14]\n"
     ]
    }
   ],
   "source": [
    "arr1=np.array([0,1,2,3,4,5,6,7,8,9,10,11,12,13,14])\n",
    "np.set_printoptions(threshold=6)\n",
    "print(arr1)"
   ]
  },
  {
   "cell_type": "code",
   "execution_count": null,
   "id": "2a39486a",
   "metadata": {},
   "outputs": [],
   "source": []
  }
 ],
 "metadata": {
  "kernelspec": {
   "display_name": "Python 3 (ipykernel)",
   "language": "python",
   "name": "python3"
  },
  "language_info": {
   "codemirror_mode": {
    "name": "ipython",
    "version": 3
   },
   "file_extension": ".py",
   "mimetype": "text/x-python",
   "name": "python",
   "nbconvert_exporter": "python",
   "pygments_lexer": "ipython3",
   "version": "3.11.5"
  }
 },
 "nbformat": 4,
 "nbformat_minor": 5
}
